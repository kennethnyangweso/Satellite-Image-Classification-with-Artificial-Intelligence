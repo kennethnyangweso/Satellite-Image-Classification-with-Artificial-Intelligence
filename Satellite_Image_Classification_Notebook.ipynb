{
  "cells": [
    {
      "cell_type": "code",
      "execution_count": null,
      "metadata": {
        "colab": {
          "base_uri": "https://localhost:8080/"
        },
        "id": "3ZOoQBEOlsJp",
        "outputId": "5caca4b0-d56d-423e-a8c6-1351e18bd583"
      },
      "outputs": [
        {
          "output_type": "stream",
          "name": "stdout",
          "text": [
            "Mounted at /content/drive\n"
          ]
        }
      ],
      "source": [
        "from google.colab import drive\n",
        "drive.mount('/content/drive')\n"
      ]
    },
    {
      "cell_type": "markdown",
      "metadata": {
        "id": "DliZNcyWXZJj"
      },
      "source": [
        "# 📌 **Business Understanding: Satellite Image Classification Project**\n",
        "\n",
        "## 🔍 **Overview**\n",
        "Satellite imagery is a powerful tool for understanding and managing land resources, urban expansion, and environmental change. However, extracting meaningful insights from these images requires significant time and expertise. By leveraging deep learning, we aim to automate the classification of satellite images into meaningful land cover categories, helping stakeholders make faster, data-driven decisions.\n",
        "\n",
        "---\n",
        "\n",
        "\n",
        "## 🧠 **Problem Statement**\n",
        "Manual classification of satellite imagery is a slow and error-prone process, making it difficult for governments, urban planners, and environmental agencies to monitor land use and environmental changes efficiently. With the increasing volume of satellite data, there is a growing need for automated systems that can accurately and quickly categorize different land types from satellite images.\n",
        "\n",
        "This project aims to develop an automated image classification model that can categorize satellite images into distinct land cover classes such as forest, agricultural land, water bodies, and residential areas.\n",
        "\n",
        "---\n",
        "\n",
        "## 🎯 **Objectives**\n",
        "To build and deploy a machine learning model capable of:\n",
        "- Automatically classifying satellite images into predefined categories\n",
        "- Enabling data-driven decision-making in urban development and environmental monitoring\n",
        "- Laying the foundation for a scalable, deployable application\n",
        "\n",
        "---\n",
        "\n",
        "## 📈 **Business Goals**\n",
        "- **Urban Planning**: Identify and monitor expanding urban and industrial zones.\n",
        "- **Agricultural Monitoring**: Track changes in crop fields and farming activities.\n",
        "- **Environmental Monitoring**: Detect deforestation, water body shrinkage, or desertification.\n",
        "- **Disaster Response**: Aid in rapid damage assessment after events like floods or wildfires.\n",
        "\n",
        "---\n",
        "\n",
        "## ✅ **Success Criteria**\n",
        "- Achieve at least **85% classification accuracy** on validation data\n",
        "- Ensure the model is lightweight enough for real-time inference\n",
        "- Deploy the model in a user-friendly application (e.g., Streamlit) for use by non-technical stakeholders"
      ]
    },
    {
      "cell_type": "code",
      "execution_count": null,
      "metadata": {
        "id": "GIjn4N1WYSJW"
      },
      "outputs": [],
      "source": [
        "#loading the dataset folder path\n",
        "data = \"/content/drive/MyDrive/data\"\n"
      ]
    },
    {
      "cell_type": "code",
      "execution_count": null,
      "metadata": {
        "id": "ereSb1cVZNyE"
      },
      "outputs": [],
      "source": [
        "#Importing the relevant libraries\n",
        "\n",
        "import os\n",
        "import tensorflow as tf\n",
        "from tensorflow.keras.models import Sequential\n",
        "from tensorflow.keras.layers import Conv2D, MaxPooling2D, Flatten, Dense\n",
        "from tensorflow.keras.preprocessing.image import ImageDataGenerator\n",
        "import matplotlib.pyplot as plt\n"
      ]
    },
    {
      "cell_type": "code",
      "execution_count": null,
      "metadata": {
        "colab": {
          "base_uri": "https://localhost:8080/"
        },
        "id": "4PnK-_z9ZmaK",
        "outputId": "bfd1e00d-b1fe-42a0-fb86-2fdfc4620d12"
      },
      "outputs": [
        {
          "output_type": "stream",
          "name": "stdout",
          "text": [
            "Found 4505 images belonging to 4 classes.\n",
            "Found 1126 images belonging to 4 classes.\n"
          ]
        }
      ],
      "source": [
        "# Data Preparation\n",
        "img_height, img_width = 64, 64\n",
        "batch_size = 32\n",
        "\n",
        "datagen = ImageDataGenerator(\n",
        "    rescale=1./255,\n",
        "    validation_split=0.2\n",
        ")\n",
        "\n",
        "train_data = datagen.flow_from_directory(\n",
        "    data,\n",
        "    target_size=(img_height, img_width),\n",
        "    batch_size=batch_size,\n",
        "    class_mode='categorical',\n",
        "    subset='training',\n",
        "    shuffle=True\n",
        ")\n",
        "\n",
        "val_data = datagen.flow_from_directory(\n",
        "    data,\n",
        "    target_size=(img_height, img_width),\n",
        "    batch_size=batch_size,\n",
        "    class_mode='categorical',\n",
        "    subset='validation'\n",
        ")\n"
      ]
    },
    {
      "cell_type": "code",
      "execution_count": null,
      "metadata": {
        "colab": {
          "base_uri": "https://localhost:8080/"
        },
        "id": "lSwb6YrgZ8wY",
        "outputId": "52ec7837-884b-47d2-ef67-82865746e39a"
      },
      "outputs": [
        {
          "output_type": "stream",
          "name": "stderr",
          "text": [
            "/usr/local/lib/python3.11/dist-packages/keras/src/layers/convolutional/base_conv.py:107: UserWarning: Do not pass an `input_shape`/`input_dim` argument to a layer. When using Sequential models, prefer using an `Input(shape)` object as the first layer in the model instead.\n",
            "  super().__init__(activity_regularizer=activity_regularizer, **kwargs)\n"
          ]
        }
      ],
      "source": [
        "# Building the CNN model\n",
        "model = Sequential([\n",
        "    Conv2D(32, (3, 3), activation='relu', input_shape=(img_height, img_width, 3)),\n",
        "    MaxPooling2D(2, 2),\n",
        "    Conv2D(64, (3, 3), activation='relu'),\n",
        "    MaxPooling2D(2, 2),\n",
        "    Flatten(),\n",
        "    Dense(128, activation='relu'),\n",
        "    Dense(train_data.num_classes, activation='softmax')\n",
        "])\n"
      ]
    },
    {
      "cell_type": "code",
      "execution_count": null,
      "metadata": {
        "colab": {
          "base_uri": "https://localhost:8080/"
        },
        "id": "7fUL8RQyaHkG",
        "outputId": "d1979450-df38-4c4d-8fb3-4dda4a5bff2f"
      },
      "outputs": [
        {
          "output_type": "stream",
          "name": "stderr",
          "text": [
            "/usr/local/lib/python3.11/dist-packages/keras/src/trainers/data_adapters/py_dataset_adapter.py:121: UserWarning: Your `PyDataset` class should call `super().__init__(**kwargs)` in its constructor. `**kwargs` can include `workers`, `use_multiprocessing`, `max_queue_size`. Do not pass these arguments to `fit()`, as they will be ignored.\n",
            "  self._warn_if_super_not_called()\n"
          ]
        },
        {
          "output_type": "stream",
          "name": "stdout",
          "text": [
            "Epoch 1/10\n",
            "\u001b[1m141/141\u001b[0m \u001b[32m━━━━━━━━━━━━━━━━━━━━\u001b[0m\u001b[37m\u001b[0m \u001b[1m905s\u001b[0m 6s/step - accuracy: 0.6634 - loss: 0.6919 - val_accuracy: 0.8428 - val_loss: 0.3661\n",
            "Epoch 2/10\n",
            "\u001b[1m141/141\u001b[0m \u001b[32m━━━━━━━━━━━━━━━━━━━━\u001b[0m\u001b[37m\u001b[0m \u001b[1m18s\u001b[0m 131ms/step - accuracy: 0.8281 - loss: 0.4069 - val_accuracy: 0.8464 - val_loss: 0.3189\n",
            "Epoch 3/10\n",
            "\u001b[1m141/141\u001b[0m \u001b[32m━━━━━━━━━━━━━━━━━━━━\u001b[0m\u001b[37m\u001b[0m \u001b[1m17s\u001b[0m 119ms/step - accuracy: 0.8339 - loss: 0.3974 - val_accuracy: 0.8845 - val_loss: 0.3092\n",
            "Epoch 4/10\n",
            "\u001b[1m141/141\u001b[0m \u001b[32m━━━━━━━━━━━━━━━━━━━━\u001b[0m\u001b[37m\u001b[0m \u001b[1m17s\u001b[0m 117ms/step - accuracy: 0.8728 - loss: 0.3041 - val_accuracy: 0.8419 - val_loss: 0.3792\n",
            "Epoch 5/10\n",
            "\u001b[1m141/141\u001b[0m \u001b[32m━━━━━━━━━━━━━━━━━━━━\u001b[0m\u001b[37m\u001b[0m \u001b[1m16s\u001b[0m 116ms/step - accuracy: 0.8748 - loss: 0.2979 - val_accuracy: 0.8766 - val_loss: 0.2858\n",
            "Epoch 6/10\n",
            "\u001b[1m141/141\u001b[0m \u001b[32m━━━━━━━━━━━━━━━━━━━━\u001b[0m\u001b[37m\u001b[0m \u001b[1m17s\u001b[0m 121ms/step - accuracy: 0.8881 - loss: 0.2697 - val_accuracy: 0.8481 - val_loss: 0.3510\n",
            "Epoch 7/10\n",
            "\u001b[1m141/141\u001b[0m \u001b[32m━━━━━━━━━━━━━━━━━━━━\u001b[0m\u001b[37m\u001b[0m \u001b[1m17s\u001b[0m 119ms/step - accuracy: 0.8735 - loss: 0.3037 - val_accuracy: 0.8872 - val_loss: 0.3013\n",
            "Epoch 8/10\n",
            "\u001b[1m141/141\u001b[0m \u001b[32m━━━━━━━━━━━━━━━━━━━━\u001b[0m\u001b[37m\u001b[0m \u001b[1m17s\u001b[0m 122ms/step - accuracy: 0.8782 - loss: 0.2938 - val_accuracy: 0.8570 - val_loss: 0.2591\n",
            "Epoch 9/10\n",
            "\u001b[1m141/141\u001b[0m \u001b[32m━━━━━━━━━━━━━━━━━━━━\u001b[0m\u001b[37m\u001b[0m \u001b[1m19s\u001b[0m 134ms/step - accuracy: 0.8912 - loss: 0.2645 - val_accuracy: 0.8508 - val_loss: 0.2650\n",
            "Epoch 10/10\n",
            "\u001b[1m141/141\u001b[0m \u001b[32m━━━━━━━━━━━━━━━━━━━━\u001b[0m\u001b[37m\u001b[0m \u001b[1m17s\u001b[0m 120ms/step - accuracy: 0.8990 - loss: 0.2477 - val_accuracy: 0.8321 - val_loss: 0.3863\n"
          ]
        }
      ],
      "source": [
        "#Training the model\n",
        "model.compile(optimizer='adam',\n",
        "              loss='categorical_crossentropy',\n",
        "              metrics=['accuracy'])\n",
        "\n",
        "history = model.fit(train_data, validation_data=val_data, epochs=10)\n"
      ]
    },
    {
      "cell_type": "code",
      "execution_count": null,
      "metadata": {
        "colab": {
          "base_uri": "https://localhost:8080/"
        },
        "id": "VlDSSsomaP52",
        "outputId": "03403efe-dc11-44f9-bf9d-13fdb21849d5"
      },
      "outputs": [
        {
          "output_type": "stream",
          "name": "stdout",
          "text": [
            "\u001b[1m36/36\u001b[0m \u001b[32m━━━━━━━━━━━━━━━━━━━━\u001b[0m\u001b[37m\u001b[0m \u001b[1m3s\u001b[0m 94ms/step - accuracy: 0.8163 - loss: 0.3968\n",
            "Validation Loss: 0.3863\n",
            "Validation Accuracy: 0.8321\n"
          ]
        }
      ],
      "source": [
        "val_loss, val_accuracy = model.evaluate(val_data)\n",
        "print(f\"Validation Loss: {val_loss:.4f}\")\n",
        "print(f\"Validation Accuracy: {val_accuracy:.4f}\")\n"
      ]
    },
    {
      "cell_type": "code",
      "execution_count": null,
      "metadata": {
        "colab": {
          "base_uri": "https://localhost:8080/"
        },
        "id": "zRSk5gmalPyp",
        "outputId": "57878e2e-36c6-4d81-8c93-bf8d8d7cffa7"
      },
      "outputs": [
        {
          "output_type": "stream",
          "name": "stdout",
          "text": [
            "\u001b[1m36/36\u001b[0m \u001b[32m━━━━━━━━━━━━━━━━━━━━\u001b[0m\u001b[37m\u001b[0m \u001b[1m4s\u001b[0m 101ms/step\n"
          ]
        }
      ],
      "source": [
        "import numpy as np\n",
        "from sklearn.metrics import classification_report, confusion_matrix\n",
        "\n",
        "# Get predictions\n",
        "val_data.reset()  # Reset to make sure predictions match order\n",
        "y_pred_probs = model.predict(val_data)\n",
        "y_pred = np.argmax(y_pred_probs, axis=1)\n",
        "\n",
        "# True labels\n",
        "y_true = val_data.classes\n",
        "class_labels = list(val_data.class_indices.keys())\n"
      ]
    },
    {
      "cell_type": "code",
      "execution_count": null,
      "metadata": {
        "colab": {
          "base_uri": "https://localhost:8080/"
        },
        "id": "amL9cHsalSwW",
        "outputId": "1c55c07a-b614-4fb2-8270-38a1d4785465"
      },
      "outputs": [
        {
          "output_type": "stream",
          "name": "stdout",
          "text": [
            "              precision    recall  f1-score   support\n",
            "\n",
            "      cloudy       0.25      0.21      0.23       300\n",
            "      desert       0.23      0.29      0.25       226\n",
            "  green_area       0.24      0.33      0.28       300\n",
            "       water       0.29      0.18      0.22       300\n",
            "\n",
            "    accuracy                           0.25      1126\n",
            "   macro avg       0.25      0.25      0.24      1126\n",
            "weighted avg       0.25      0.25      0.24      1126\n",
            "\n"
          ]
        }
      ],
      "source": [
        "print(classification_report(y_true, y_pred, target_names=class_labels))\n"
      ]
    },
    {
      "cell_type": "code",
      "execution_count": null,
      "metadata": {
        "colab": {
          "base_uri": "https://localhost:8080/",
          "height": 718
        },
        "id": "0q_Q5ai8lXTk",
        "outputId": "a4ed5cbd-cfbf-42d6-d29f-2ac8749d1873"
      },
      "outputs": [
        {
          "output_type": "display_data",
          "data": {
            "text/plain": [
              "<Figure size 1000x800 with 2 Axes>"
            ],
            "image/png": "[encoded data removed]"
          },
          "metadata": {}
        }
      ],
      "source": [
        "import seaborn as sns\n",
        "import matplotlib.pyplot as plt\n",
        "\n",
        "cm = confusion_matrix(y_true, y_pred)\n",
        "plt.figure(figsize=(10, 8))\n",
        "sns.heatmap(cm, annot=True, fmt='d', xticklabels=class_labels, yticklabels=class_labels, cmap='Blues')\n",
        "plt.xlabel('Predicted')\n",
        "plt.ylabel('Actual')\n",
        "plt.title('Confusion Matrix')\n",
        "plt.show()\n"
      ]
    },
    {
      "cell_type": "markdown",
      "source": [
        "**Observations:**\n",
        "\n",
        "Overall Performance: Similar to the previous matrix, there are correct classifications along the diagonal, but also significant misclassifications.\n",
        "\n",
        "1. **True Positives (Correct Classifications):**\n",
        "\n",
        "- 'cloudy': 63\n",
        "\n",
        "- 'desert': 65\n",
        "\n",
        "- 'green_area': 98\n",
        "\n",
        "- 'water': 53\n",
        "\n",
        "- The model classifies 'green_area' best (98 correct).\n",
        "\n",
        "- The model classifies 'water' worst (53 correct).\n",
        "\n",
        "2. **False Positives and False Negatives (Misclassifications):**\n",
        "\n",
        "  **'cloudy' misclassifications:**\n",
        "\n",
        "- 121 actual 'cloudy' were predicted as 'green_area' (highest single error).\n",
        "\n",
        "- 69 actual 'cloudy' were predicted as 'desert'.\n",
        "\n",
        "  **'desert' misclassifications:**\n",
        "\n",
        "- 76 actual 'desert' were predicted as 'green_area'.\n",
        "\n",
        "- 58 actual 'desert' were predicted as 'cloudy'.\n",
        "\n",
        "  **'green_area' misclassifications:**\n",
        "\n",
        "- 66 actual 'green_area' were predicted as 'cloudy'.\n",
        "\n",
        "- 82 actual 'green_area' were predicted as 'desert'.\n",
        "\n",
        "  **'water' misclassifications:**\n",
        "\n",
        "- 107 actual 'water' were predicted as 'green_area'.\n",
        "\n",
        "- 72 actual 'water' were predicted as 'desert'.\n",
        "\n",
        "- 68 actual 'water' were predicted as 'cloudy'.\n",
        "\n",
        "\n",
        "\n"
      ],
      "metadata": {
        "id": "-IRzR08sGiRR"
      }
    },
    {
      "cell_type": "code",
      "execution_count": null,
      "metadata": {
        "colab": {
          "base_uri": "https://localhost:8080/"
        },
        "id": "A1Y5hPyWl1Wj",
        "outputId": "38b2287c-658a-48f8-cb7b-fe96878f6fde"
      },
      "outputs": [
        {
          "output_type": "execute_result",
          "data": {
            "text/plain": [
              "<keras.src.legacy.preprocessing.image.ImageDataGenerator at 0x786fea3c7f50>"
            ]
          },
          "metadata": {},
          "execution_count": 11
        }
      ],
      "source": [
        "# Dealing with overfitting\n",
        "ImageDataGenerator(\n",
        "    rescale=1./255,\n",
        "    rotation_range=20,\n",
        "    zoom_range=0.2,\n",
        "    width_shift_range=0.1,\n",
        "    height_shift_range=0.1,\n",
        "    horizontal_flip=True,\n",
        "    validation_split=0.2\n",
        ")\n"
      ]
    },
    {
      "cell_type": "code",
      "execution_count": null,
      "metadata": {
        "colab": {
          "base_uri": "https://localhost:8080/"
        },
        "id": "HkScB_vol6h_",
        "outputId": "41fbb7b7-3ce5-462b-99f7-49c1cb927580"
      },
      "outputs": [
        {
          "output_type": "stream",
          "name": "stdout",
          "text": [
            "Epoch 1/10\n",
            "\u001b[1m141/141\u001b[0m \u001b[32m━━━━━━━━━━━━━━━━━━━━\u001b[0m\u001b[37m\u001b[0m \u001b[1m20s\u001b[0m 130ms/step - accuracy: 0.9021 - loss: 0.2547 - val_accuracy: 0.8908 - val_loss: 0.2425\n",
            "Epoch 2/10\n",
            "\u001b[1m141/141\u001b[0m \u001b[32m━━━━━━━━━━━━━━━━━━━━\u001b[0m\u001b[37m\u001b[0m \u001b[1m18s\u001b[0m 124ms/step - accuracy: 0.8773 - loss: 0.2789 - val_accuracy: 0.8650 - val_loss: 0.2863\n",
            "Epoch 3/10\n",
            "\u001b[1m141/141\u001b[0m \u001b[32m━━━━━━━━━━━━━━━━━━━━\u001b[0m\u001b[37m\u001b[0m \u001b[1m17s\u001b[0m 123ms/step - accuracy: 0.9017 - loss: 0.2399 - val_accuracy: 0.9139 - val_loss: 0.2005\n",
            "Epoch 4/10\n",
            "\u001b[1m141/141\u001b[0m \u001b[32m━━━━━━━━━━━━━━━━━━━━\u001b[0m\u001b[37m\u001b[0m \u001b[1m17s\u001b[0m 122ms/step - accuracy: 0.9203 - loss: 0.2187 - val_accuracy: 0.8730 - val_loss: 0.2996\n",
            "Epoch 5/10\n",
            "\u001b[1m141/141\u001b[0m \u001b[32m━━━━━━━━━━━━━━━━━━━━\u001b[0m\u001b[37m\u001b[0m \u001b[1m17s\u001b[0m 123ms/step - accuracy: 0.8998 - loss: 0.2333 - val_accuracy: 0.9272 - val_loss: 0.1870\n",
            "Epoch 6/10\n",
            "\u001b[1m141/141\u001b[0m \u001b[32m━━━━━━━━━━━━━━━━━━━━\u001b[0m\u001b[37m\u001b[0m \u001b[1m17s\u001b[0m 120ms/step - accuracy: 0.9216 - loss: 0.1999 - val_accuracy: 0.9076 - val_loss: 0.2178\n",
            "Epoch 7/10\n",
            "\u001b[1m141/141\u001b[0m \u001b[32m━━━━━━━━━━━━━━━━━━━━\u001b[0m\u001b[37m\u001b[0m \u001b[1m16s\u001b[0m 116ms/step - accuracy: 0.9222 - loss: 0.2013 - val_accuracy: 0.9085 - val_loss: 0.2217\n",
            "Epoch 8/10\n",
            "\u001b[1m141/141\u001b[0m \u001b[32m━━━━━━━━━━━━━━━━━━━━\u001b[0m\u001b[37m\u001b[0m \u001b[1m22s\u001b[0m 130ms/step - accuracy: 0.9312 - loss: 0.1808 - val_accuracy: 0.8943 - val_loss: 0.2197\n",
            "Epoch 9/10\n",
            "\u001b[1m141/141\u001b[0m \u001b[32m━━━━━━━━━━━━━━━━━━━━\u001b[0m\u001b[37m\u001b[0m \u001b[1m16s\u001b[0m 116ms/step - accuracy: 0.9033 - loss: 0.2251 - val_accuracy: 0.9076 - val_loss: 0.2154\n",
            "Epoch 10/10\n",
            "\u001b[1m141/141\u001b[0m \u001b[32m━━━━━━━━━━━━━━━━━━━━\u001b[0m\u001b[37m\u001b[0m \u001b[1m18s\u001b[0m 131ms/step - accuracy: 0.9164 - loss: 0.2012 - val_accuracy: 0.9005 - val_loss: 0.1992\n"
          ]
        },
        {
          "output_type": "execute_result",
          "data": {
            "text/plain": [
              "<keras.src.callbacks.history.History at 0x786fea38bfd0>"
            ]
          },
          "metadata": {},
          "execution_count": 12
        }
      ],
      "source": [
        "from sklearn.utils.class_weight import compute_class_weight\n",
        "import numpy as np\n",
        "\n",
        "# Get class weights\n",
        "class_weights = compute_class_weight(\n",
        "    class_weight='balanced',\n",
        "    classes=np.unique(train_data.classes),\n",
        "    y=train_data.classes\n",
        ")\n",
        "class_weights = dict(enumerate(class_weights))\n",
        "\n",
        "# Train with class weights\n",
        "model.fit(train_data, validation_data=val_data, epochs=10, class_weight=class_weights)\n"
      ]
    },
    {
      "cell_type": "code",
      "execution_count": null,
      "metadata": {
        "id": "6ftrF4r7msOb",
        "colab": {
          "base_uri": "https://localhost:8080/"
        },
        "outputId": "cb3fa5c8-e40a-4182-b035-ca9e7da0b1c8"
      },
      "outputs": [
        {
          "output_type": "stream",
          "name": "stdout",
          "text": [
            "\u001b[1m36/36\u001b[0m \u001b[32m━━━━━━━━━━━━━━━━━━━━\u001b[0m\u001b[37m\u001b[0m \u001b[1m3s\u001b[0m 88ms/step - accuracy: 0.9071 - loss: 0.2082\n",
            "Validation Loss: 0.1992\n",
            "Validation Accuracy: 0.9005\n"
          ]
        }
      ],
      "source": [
        "val_loss, val_accuracy = model.evaluate(val_data)\n",
        "print(f\"Validation Loss: {val_loss:.4f}\")\n",
        "print(f\"Validation Accuracy: {val_accuracy:.4f}\")\n"
      ]
    },
    {
      "cell_type": "code",
      "execution_count": null,
      "metadata": {
        "id": "rChXj0c4nBSx",
        "colab": {
          "base_uri": "https://localhost:8080/"
        },
        "outputId": "84b34482-f7aa-474b-bd1c-7d9a59f8ff84"
      },
      "outputs": [
        {
          "output_type": "stream",
          "name": "stdout",
          "text": [
            "\u001b[1m36/36\u001b[0m \u001b[32m━━━━━━━━━━━━━━━━━━━━\u001b[0m\u001b[37m\u001b[0m \u001b[1m3s\u001b[0m 91ms/step\n"
          ]
        }
      ],
      "source": [
        "import numpy as np\n",
        "from sklearn.metrics import classification_report, confusion_matrix\n",
        "\n",
        "val_data.reset()\n",
        "y_pred_probs = model.predict(val_data)\n",
        "y_pred = np.argmax(y_pred_probs, axis=1)\n",
        "y_true = val_data.classes\n",
        "class_labels = list(val_data.class_indices.keys())\n"
      ]
    },
    {
      "cell_type": "code",
      "execution_count": null,
      "metadata": {
        "id": "Fau-_z_fnD2u",
        "colab": {
          "base_uri": "https://localhost:8080/"
        },
        "outputId": "16db9965-f6e3-480f-809a-7710dd53794b"
      },
      "outputs": [
        {
          "output_type": "stream",
          "name": "stdout",
          "text": [
            "              precision    recall  f1-score   support\n",
            "\n",
            "      cloudy       0.30      0.29      0.29       300\n",
            "      desert       0.15      0.17      0.16       226\n",
            "  green_area       0.23      0.28      0.26       300\n",
            "       water       0.26      0.20      0.23       300\n",
            "\n",
            "    accuracy                           0.24      1126\n",
            "   macro avg       0.24      0.23      0.23      1126\n",
            "weighted avg       0.24      0.24      0.24      1126\n",
            "\n"
          ]
        }
      ],
      "source": [
        "print(classification_report(y_true, y_pred, target_names=class_labels))\n"
      ]
    },
    {
      "cell_type": "code",
      "execution_count": null,
      "metadata": {
        "id": "06EDGSqBnI6G",
        "colab": {
          "base_uri": "https://localhost:8080/",
          "height": 718
        },
        "outputId": "3c3e26e0-6666-4f52-8c28-ea0574095468"
      },
      "outputs": [
        {
          "output_type": "display_data",
          "data": {
            "text/plain": [
              "<Figure size 1000x800 with 2 Axes>"
            ],
            "image/png": "[encoded data removed]"
          },
          "metadata": {}
        }
      ],
      "source": [
        "import seaborn as sns\n",
        "import matplotlib.pyplot as plt\n",
        "\n",
        "cm = confusion_matrix(y_true, y_pred)\n",
        "plt.figure(figsize=(10, 8))\n",
        "sns.heatmap(cm, annot=True, fmt='d', cmap='Blues',\n",
        "            xticklabels=class_labels, yticklabels=class_labels)\n",
        "plt.xlabel(\"Predicted\")\n",
        "plt.ylabel(\"Actual\")\n",
        "plt.title(\"Confusion Matrix (Balanced Model)\")\n",
        "plt.show()\n"
      ]
    },
    {
      "cell_type": "markdown",
      "source": [
        "**Observations:**\n",
        "\n",
        "- Overall Performance: The diagonal elements (correct classifications) are generally larger than the off-diagonal elements (misclassifications), suggesting the model has learned to distinguish between the classes to some extent.\n",
        "\n",
        "- Best Performing Class: The 'water' class has the highest number of correct predictions (109), indicating the model is most accurate at identifying water bodies.\n",
        "\n",
        "- Worst Performing Class: The 'desert' class has the lowest number of correct predictions (38), meaning the model struggles the most with this category.\n",
        "\n",
        "**Significant Confusions:**\n",
        "\n",
        "- 'Water' misclassified as 'Green Area': A substantial number of actual 'water' images (109) were incorrectly predicted as 'green_area'. This is a major source of error.\n",
        "\n",
        "- 'Cloudy' misclassified as 'Green Area': 88 actual 'cloudy' images were predicted as 'green_area'.\n",
        "\n",
        "- 'Green Area' misclassified as 'Desert': 80 actual 'green_area' images were predicted as 'desert'.\n",
        "\n",
        "- 'Desert' misclassified as 'Green Area': 77 actual 'desert' images were predicted as 'green_area'.\n",
        "\n",
        "- 'Cloudy' misclassified as 'Desert': 70 actual 'cloudy' images were predicted as 'desert'.\n",
        "\n",
        "- 'Water' misclassified as 'Cloudy': 70 actual 'water' images were predicted as 'cloudy'.\n",
        "\n",
        "- 'Water' misclassified as 'Desert': 60 actual 'water' images were predicted as 'desert'.\n",
        "\n",
        "**Relevant Insights:**\n",
        "\n",
        "- Difficulty in distinguishing 'Desert' and 'Green Area': There's significant bidirectional confusion between 'desert' and 'green_area' (77 desert as green_area, 80 green_area as desert). This suggests that some images in these categories might share similar visual characteristics, such as sparse vegetation or dry landscapes.\n",
        "\n",
        "- High Confusion between 'Water' and 'Green Area': The extremely high misclassification of 'water' as 'green_area' (109 instances) is a critical issue. This could be due to:\n",
        "\n",
        "- Reflections: Water surfaces reflecting surrounding green vegetation, making them appear like green areas.\n",
        "\n",
        "- Wetlands/Marshes: Areas with both water and significant plant life might be ambiguous.\n",
        "\n",
        "- Image Features: The model might be focusing on color or texture features that are common to both water (e.g., green tint from algae or reflections) and green areas.\n",
        "\n",
        "- General Ambiguity in 'Cloudy' and 'Desert' classification: Both 'cloudy' and 'desert' are frequently misclassified into other categories, indicating that their defining features might not be distinct enough for the model. For instance, a hazy desert scene might resemble a cloudy sky.\n",
        "\n",
        "- Impact of \"Balanced Model\": While the model is described as \"balanced,\" the significant misclassifications suggest that class balance alone doesn't guarantee high accuracy if the classes themselves have overlapping features or if the model's feature extraction is insufficient."
      ],
      "metadata": {
        "id": "PnfWV9LYELzq"
      }
    },
    {
      "cell_type": "code",
      "execution_count": null,
      "metadata": {
        "id": "2ey3n5iJnnc2",
        "colab": {
          "base_uri": "https://localhost:8080/"
        },
        "outputId": "593ee64b-68cb-4ea7-83e1-280c82e092d9"
      },
      "outputs": [
        {
          "output_type": "stream",
          "name": "stdout",
          "text": [
            "\u001b[1m36/36\u001b[0m \u001b[32m━━━━━━━━━━━━━━━━━━━━\u001b[0m\u001b[37m\u001b[0m \u001b[1m3s\u001b[0m 96ms/step\n"
          ]
        }
      ],
      "source": [
        "val_data.reset()  # Important!\n",
        "y_pred_probs = model.predict(val_data, verbose=1)\n",
        "y_pred = np.argmax(y_pred_probs, axis=1)\n"
      ]
    },
    {
      "cell_type": "code",
      "execution_count": null,
      "metadata": {
        "id": "84hW2pornq-8"
      },
      "outputs": [],
      "source": [
        "y_true = val_data.classes\n"
      ]
    },
    {
      "cell_type": "code",
      "execution_count": null,
      "metadata": {
        "id": "h0pG3engnvI2"
      },
      "outputs": [],
      "source": [
        "assert len(y_true) == len(y_pred)\n"
      ]
    },
    {
      "cell_type": "markdown",
      "metadata": {
        "id": "PoQlCs0roSnv"
      },
      "source": [
        "## **Transfer learning with MobileNetV2**"
      ]
    },
    {
      "cell_type": "markdown",
      "source": [
        "MobileNetV2 is a lightweight convolutional neural network architecture optimized for mobile and embedded devices. It’s especially efficient in terms of memory and computational cost."
      ],
      "metadata": {
        "id": "_JD2mhQTI1rt"
      }
    },
    {
      "cell_type": "code",
      "execution_count": null,
      "metadata": {
        "id": "F_5bNrmdofiL"
      },
      "outputs": [],
      "source": [
        "img_size = (224, 224)\n",
        "batch_size = 32\n"
      ]
    },
    {
      "cell_type": "code",
      "execution_count": null,
      "metadata": {
        "colab": {
          "base_uri": "https://localhost:8080/"
        },
        "id": "hUFo_Xf9oixB",
        "outputId": "971c7972-ee93-42a5-9852-d9c34526d44c"
      },
      "outputs": [
        {
          "output_type": "stream",
          "name": "stdout",
          "text": [
            "Found 4505 images belonging to 4 classes.\n",
            "Found 1126 images belonging to 4 classes.\n"
          ]
        }
      ],
      "source": [
        "from tensorflow.keras.preprocessing.image import ImageDataGenerator\n",
        "\n",
        "datagen = ImageDataGenerator(\n",
        "    rescale=1./255,\n",
        "    rotation_range=20,\n",
        "    zoom_range=0.2,\n",
        "    horizontal_flip=True,\n",
        "    validation_split=0.2\n",
        ")\n",
        "\n",
        "train_data = datagen.flow_from_directory(\n",
        "    data,\n",
        "    target_size=img_size,\n",
        "    batch_size=batch_size,\n",
        "    class_mode='categorical',\n",
        "    subset='training',\n",
        "    shuffle=True\n",
        ")\n",
        "\n",
        "val_data = datagen.flow_from_directory(\n",
        "    data,\n",
        "    target_size=img_size,\n",
        "    batch_size=batch_size,\n",
        "    class_mode='categorical',\n",
        "    subset='validation'\n",
        ")\n"
      ]
    },
    {
      "cell_type": "code",
      "execution_count": null,
      "metadata": {
        "colab": {
          "base_uri": "https://localhost:8080/"
        },
        "id": "xQLgG_kyosRQ",
        "outputId": "b5799e4f-9b5d-4d4e-f9f4-ba9f02169ae7"
      },
      "outputs": [
        {
          "output_type": "stream",
          "name": "stdout",
          "text": [
            "Downloading data from https://storage.googleapis.com/tensorflow/keras-applications/mobilenet_v2/mobilenet_v2_weights_tf_dim_ordering_tf_kernels_1.0_224_no_top.h5\n",
            "\u001b[1m9406464/9406464\u001b[0m \u001b[32m━━━━━━━━━━━━━━━━━━━━\u001b[0m\u001b[37m\u001b[0m \u001b[1m0s\u001b[0m 0us/step\n"
          ]
        }
      ],
      "source": [
        "from tensorflow.keras.applications import MobileNetV2\n",
        "from tensorflow.keras.models import Sequential\n",
        "from tensorflow.keras.layers import GlobalAveragePooling2D, Dense\n",
        "\n",
        "base_model = MobileNetV2(weights='imagenet', include_top=False, input_shape=(224, 224, 3))\n",
        "base_model.trainable = False  # Freeze base\n"
      ]
    },
    {
      "cell_type": "code",
      "execution_count": null,
      "metadata": {
        "id": "Txy9rR4BoxEX"
      },
      "outputs": [],
      "source": [
        "model = Sequential([\n",
        "    base_model,\n",
        "    GlobalAveragePooling2D(),\n",
        "    Dense(128, activation='relu'),\n",
        "    Dense(train_data.num_classes, activation='softmax')\n",
        "])\n"
      ]
    },
    {
      "cell_type": "code",
      "execution_count": null,
      "metadata": {
        "colab": {
          "base_uri": "https://localhost:8080/"
        },
        "id": "eYyMPA5ho00q",
        "outputId": "0b92d488-fc66-47e3-c692-d75ecb67b480"
      },
      "outputs": [
        {
          "output_type": "stream",
          "name": "stderr",
          "text": [
            "/usr/local/lib/python3.11/dist-packages/keras/src/trainers/data_adapters/py_dataset_adapter.py:121: UserWarning: Your `PyDataset` class should call `super().__init__(**kwargs)` in its constructor. `**kwargs` can include `workers`, `use_multiprocessing`, `max_queue_size`. Do not pass these arguments to `fit()`, as they will be ignored.\n",
            "  self._warn_if_super_not_called()\n"
          ]
        },
        {
          "output_type": "stream",
          "name": "stdout",
          "text": [
            "Epoch 1/10\n",
            "\u001b[1m141/141\u001b[0m \u001b[32m━━━━━━━━━━━━━━━━━━━━\u001b[0m\u001b[37m\u001b[0m \u001b[1m121s\u001b[0m 790ms/step - accuracy: 0.8055 - loss: 0.5021 - val_accuracy: 0.9503 - val_loss: 0.1418\n",
            "Epoch 2/10\n",
            "\u001b[1m141/141\u001b[0m \u001b[32m━━━━━━━━━━━━━━━━━━━━\u001b[0m\u001b[37m\u001b[0m \u001b[1m79s\u001b[0m 561ms/step - accuracy: 0.9740 - loss: 0.0975 - val_accuracy: 0.9742 - val_loss: 0.0811\n",
            "Epoch 3/10\n",
            "\u001b[1m141/141\u001b[0m \u001b[32m━━━━━━━━━━━━━━━━━━━━\u001b[0m\u001b[37m\u001b[0m \u001b[1m79s\u001b[0m 563ms/step - accuracy: 0.9787 - loss: 0.0749 - val_accuracy: 0.9778 - val_loss: 0.0657\n",
            "Epoch 4/10\n",
            "\u001b[1m141/141\u001b[0m \u001b[32m━━━━━━━━━━━━━━━━━━━━\u001b[0m\u001b[37m\u001b[0m \u001b[1m79s\u001b[0m 562ms/step - accuracy: 0.9884 - loss: 0.0500 - val_accuracy: 0.9787 - val_loss: 0.0641\n",
            "Epoch 5/10\n",
            "\u001b[1m141/141\u001b[0m \u001b[32m━━━━━━━━━━━━━━━━━━━━\u001b[0m\u001b[37m\u001b[0m \u001b[1m79s\u001b[0m 561ms/step - accuracy: 0.9813 - loss: 0.0565 - val_accuracy: 0.9645 - val_loss: 0.0867\n",
            "Epoch 6/10\n",
            "\u001b[1m141/141\u001b[0m \u001b[32m━━━━━━━━━━━━━━━━━━━━\u001b[0m\u001b[37m\u001b[0m \u001b[1m79s\u001b[0m 560ms/step - accuracy: 0.9865 - loss: 0.0402 - val_accuracy: 0.9663 - val_loss: 0.1130\n",
            "Epoch 7/10\n",
            "\u001b[1m141/141\u001b[0m \u001b[32m━━━━━━━━━━━━━━━━━━━━\u001b[0m\u001b[37m\u001b[0m \u001b[1m82s\u001b[0m 558ms/step - accuracy: 0.9826 - loss: 0.0459 - val_accuracy: 0.9796 - val_loss: 0.0587\n",
            "Epoch 8/10\n",
            "\u001b[1m141/141\u001b[0m \u001b[32m━━━━━━━━━━━━━━━━━━━━\u001b[0m\u001b[37m\u001b[0m \u001b[1m79s\u001b[0m 558ms/step - accuracy: 0.9885 - loss: 0.0370 - val_accuracy: 0.9822 - val_loss: 0.0535\n",
            "Epoch 9/10\n",
            "\u001b[1m141/141\u001b[0m \u001b[32m━━━━━━━━━━━━━━━━━━━━\u001b[0m\u001b[37m\u001b[0m \u001b[1m79s\u001b[0m 563ms/step - accuracy: 0.9889 - loss: 0.0343 - val_accuracy: 0.9876 - val_loss: 0.0479\n",
            "Epoch 10/10\n",
            "\u001b[1m141/141\u001b[0m \u001b[32m━━━━━━━━━━━━━━━━━━━━\u001b[0m\u001b[37m\u001b[0m \u001b[1m79s\u001b[0m 560ms/step - accuracy: 0.9933 - loss: 0.0212 - val_accuracy: 0.9840 - val_loss: 0.0480\n"
          ]
        }
      ],
      "source": [
        "model.compile(optimizer='adam',\n",
        "              loss='categorical_crossentropy',\n",
        "              metrics=['accuracy'])\n",
        "\n",
        "history = model.fit(train_data, validation_data=val_data, epochs=10)\n"
      ]
    },
    {
      "cell_type": "code",
      "execution_count": null,
      "metadata": {
        "colab": {
          "base_uri": "https://localhost:8080/"
        },
        "id": "A4avcje3soMo",
        "outputId": "9b63c92f-11ad-48c3-a9ad-e49a3ffcdedd"
      },
      "outputs": [
        {
          "output_type": "stream",
          "name": "stdout",
          "text": [
            "\u001b[1m36/36\u001b[0m \u001b[32m━━━━━━━━━━━━━━━━━━━━\u001b[0m\u001b[37m\u001b[0m \u001b[1m16s\u001b[0m 432ms/step - accuracy: 0.9833 - loss: 0.0437\n",
            "Validation Loss: 0.0490\n",
            "Validation Accuracy: 0.9822\n"
          ]
        }
      ],
      "source": [
        "val_loss, val_acc = model.evaluate(val_data)\n",
        "print(f\"Validation Loss: {val_loss:.4f}\")\n",
        "print(f\"Validation Accuracy: {val_acc:.4f}\")"
      ]
    },
    {
      "cell_type": "code",
      "execution_count": null,
      "metadata": {
        "colab": {
          "base_uri": "https://localhost:8080/"
        },
        "id": "ROgAInkDs9jj",
        "outputId": "563780ec-cb5d-4a08-918d-da12edb77952"
      },
      "outputs": [
        {
          "output_type": "stream",
          "name": "stdout",
          "text": [
            "\u001b[1m36/36\u001b[0m \u001b[32m━━━━━━━━━━━━━━━━━━━━\u001b[0m\u001b[37m\u001b[0m \u001b[1m22s\u001b[0m 523ms/step\n"
          ]
        }
      ],
      "source": [
        "import numpy as np\n",
        "\n",
        "val_data.reset()  # Ensure correct order\n",
        "y_pred_probs = model.predict(val_data, verbose=1)\n",
        "y_pred = np.argmax(y_pred_probs, axis=1)\n"
      ]
    },
    {
      "cell_type": "code",
      "execution_count": null,
      "metadata": {
        "id": "As_Vwo7vtAxZ"
      },
      "outputs": [],
      "source": [
        "y_true = val_data.classes\n",
        "class_labels = list(val_data.class_indices.keys())\n"
      ]
    },
    {
      "cell_type": "code",
      "execution_count": null,
      "metadata": {
        "colab": {
          "base_uri": "https://localhost:8080/",
          "height": 718
        },
        "id": "WVVIreRJtFs4",
        "outputId": "6a90fa51-36e0-47f9-9877-e3f4c84448c6"
      },
      "outputs": [
        {
          "output_type": "display_data",
          "data": {
            "text/plain": [
              "<Figure size 1000x800 with 2 Axes>"
            ],
            "image/png": "[encoded data removed]"
          },
          "metadata": {}
        }
      ],
      "source": [
        "from sklearn.metrics import confusion_matrix\n",
        "import seaborn as sns\n",
        "import matplotlib.pyplot as plt\n",
        "\n",
        "cm = confusion_matrix(y_true, y_pred)\n",
        "\n",
        "plt.figure(figsize=(10, 8))\n",
        "sns.heatmap(cm, annot=True, fmt='d', cmap='Blues',\n",
        "            xticklabels=class_labels,\n",
        "            yticklabels=class_labels)\n",
        "\n",
        "plt.xlabel('Predicted')\n",
        "plt.ylabel('Actual')\n",
        "plt.title('Confusion Matrix - MobileNetV2 Model')\n",
        "plt.show()\n"
      ]
    },
    {
      "cell_type": "markdown",
      "source": [
        "**Observations:**\n",
        "\n",
        "Overall Performance: The true positive counts (diagonal) are generally modest, and there's a significant amount of off-diagonal values, indicating that the MobileNetV2 model struggles with distinguishing between these land cover classes. The model's performance appears to be less precise compared to what one might hope for.\n",
        "\n",
        "**True Positives (Correct Classifications) by Class:**\n",
        "\n",
        "cloudy: 76\n",
        "\n",
        "desert: 47\n",
        "\n",
        "green_area: 80\n",
        "\n",
        "water: 80\n",
        "\n",
        "The model performs best on 'green_area' and 'water', both having 80 correct predictions.\n",
        "\n",
        "The model performs worst on 'desert', with only 47 correct predictions.\n",
        "\n",
        "**False Positives and False Negatives (Misclassifications) by Class:**\n",
        "\n",
        "Actual 'cloudy' images:\n",
        "\n",
        "54 were predicted as 'desert'.\n",
        "\n",
        "85 were predicted as 'green_area'.\n",
        "\n",
        "85 were predicted as 'water'.\n",
        "\n",
        "Insight: 'cloudy' is very frequently misclassified, especially as 'green_area' and 'water'.\n",
        "\n",
        "Actual 'desert' images:\n",
        "\n",
        "50 were predicted as 'cloudy'.\n",
        "\n",
        "66 were predicted as 'green_area'.\n",
        "\n",
        "63 were predicted as 'water'.\n",
        "\n",
        "Insight: 'desert' is the hardest class for the model to classify correctly, and it's heavily confused with all other classes, particularly 'green_area' and 'water'.\n",
        "\n",
        "Actual 'green_area' images:\n",
        "\n",
        "84 were predicted as 'cloudy'.\n",
        "\n",
        "60 were predicted as 'desert'.\n",
        "\n",
        "76 were predicted as 'water'.\n",
        "\n",
        "Insight: 'green_area' also shows considerable confusion with 'cloudy' and 'water'.\n",
        "\n",
        "Actual 'water' images:\n",
        "\n",
        "84 were predicted as 'cloudy'.\n",
        "\n",
        "65 were predicted as 'desert'.\n",
        "\n",
        "71 were predicted as 'green_area'.\n",
        "\n",
        "Insight: 'water' is frequently misclassified across all other categories, with significant confusion with 'cloudy' and 'green_area'.\n",
        "\n",
        "Symmetry in Misclassifications: There seems to be a notable level of bidirectional confusion between most pairs of classes (e.g., 'cloudy' mistaken for 'desert' and 'desert' for 'cloudy'). This suggests underlying visual similarities that the model struggles to differentiate.\n",
        "\n",
        "**Common Misclassification Patterns:**\n",
        "\n",
        "All classes show a tendency to be misclassified as 'green_area' or 'water'.\n",
        "\n",
        "'cloudy' and 'desert' are heavily confused with all other classes.\n",
        "\n",
        "The values of misclassifications (off-diagonal elements) are often comparable to, or even higher than, the true positive counts for some classes. For instance, actual 'cloudy' images are predicted as 'green_area' (85) or 'water' (85) almost as often as they are correctly classified (76). Similarly for 'desert'."
      ],
      "metadata": {
        "id": "7AL3CVLaI_mc"
      }
    },
    {
      "cell_type": "code",
      "execution_count": null,
      "metadata": {
        "id": "4YOeHVLnucVQ"
      },
      "outputs": [],
      "source": [
        "# Unfreeze from a specific layer onward (e.g., last 30 layers)\n",
        "for layer in base_model.layers[-30:]:\n",
        "    layer.trainable = True\n"
      ]
    },
    {
      "cell_type": "code",
      "execution_count": null,
      "metadata": {
        "id": "D1znE5aeudwh"
      },
      "outputs": [],
      "source": [
        "from tensorflow.keras.optimizers import Adam\n",
        "\n",
        "model.compile(\n",
        "    optimizer=Adam(learning_rate=1e-5),  # low LR to avoid large weight updates\n",
        "    loss='categorical_crossentropy',\n",
        "    metrics=['accuracy']\n",
        ")\n"
      ]
    },
    {
      "cell_type": "code",
      "execution_count": null,
      "metadata": {
        "colab": {
          "base_uri": "https://localhost:8080/"
        },
        "id": "SHU2gIpNuiIX",
        "outputId": "69c2c61b-f080-4526-a9a6-55ebdb171d54"
      },
      "outputs": [
        {
          "output_type": "stream",
          "name": "stdout",
          "text": [
            "Epoch 1/5\n",
            "\u001b[1m141/141\u001b[0m \u001b[32m━━━━━━━━━━━━━━━━━━━━\u001b[0m\u001b[37m\u001b[0m \u001b[1m105s\u001b[0m 637ms/step - accuracy: 0.8666 - loss: 0.4348 - val_accuracy: 0.8774 - val_loss: 0.3955\n",
            "Epoch 2/5\n",
            "\u001b[1m141/141\u001b[0m \u001b[32m━━━━━━━━━━━━━━━━━━━━\u001b[0m\u001b[37m\u001b[0m \u001b[1m126s\u001b[0m 563ms/step - accuracy: 0.9633 - loss: 0.1066 - val_accuracy: 0.8703 - val_loss: 0.8103\n",
            "Epoch 3/5\n",
            "\u001b[1m141/141\u001b[0m \u001b[32m━━━━━━━━━━━━━━━━━━━━\u001b[0m\u001b[37m\u001b[0m \u001b[1m84s\u001b[0m 597ms/step - accuracy: 0.9756 - loss: 0.0641 - val_accuracy: 0.8650 - val_loss: 0.9526\n",
            "Epoch 4/5\n",
            "\u001b[1m141/141\u001b[0m \u001b[32m━━━━━━━━━━━━━━━━━━━━\u001b[0m\u001b[37m\u001b[0m \u001b[1m79s\u001b[0m 561ms/step - accuracy: 0.9785 - loss: 0.0538 - val_accuracy: 0.8552 - val_loss: 1.2178\n",
            "Epoch 5/5\n",
            "\u001b[1m141/141\u001b[0m \u001b[32m━━━━━━━━━━━━━━━━━━━━\u001b[0m\u001b[37m\u001b[0m \u001b[1m79s\u001b[0m 560ms/step - accuracy: 0.9816 - loss: 0.0484 - val_accuracy: 0.8499 - val_loss: 1.2918\n"
          ]
        }
      ],
      "source": [
        "fine_tune_history = model.fit(\n",
        "    train_data,\n",
        "    validation_data=val_data,\n",
        "    epochs=5  # try 5 first, then monitor performance\n",
        ")\n"
      ]
    },
    {
      "cell_type": "code",
      "execution_count": null,
      "metadata": {
        "colab": {
          "base_uri": "https://localhost:8080/"
        },
        "id": "bcUerZ7Bw8b-",
        "outputId": "8c248ddd-a99e-4b2b-cbc6-1bcf6b3162cb"
      },
      "outputs": [
        {
          "output_type": "stream",
          "name": "stdout",
          "text": [
            "\u001b[1m36/36\u001b[0m \u001b[32m━━━━━━━━━━━━━━━━━━━━\u001b[0m\u001b[37m\u001b[0m \u001b[1m16s\u001b[0m 442ms/step - accuracy: 0.8564 - loss: 1.2561\n",
            "Fine-tuned Val Loss: 1.2711\n",
            "Fine-tuned Val Accuracy: 0.8508\n"
          ]
        }
      ],
      "source": [
        "val_loss, val_acc = model.evaluate(val_data)\n",
        "print(f\"Fine-tuned Val Loss: {val_loss:.4f}\")\n",
        "print(f\"Fine-tuned Val Accuracy: {val_acc:.4f}\")\n"
      ]
    },
    {
      "cell_type": "code",
      "execution_count": null,
      "metadata": {
        "id": "hJ2aYr3xxQv0"
      },
      "outputs": [],
      "source": [
        "for layer in base_model.layers[:-15]:\n",
        "    layer.trainable = False\n"
      ]
    },
    {
      "cell_type": "code",
      "execution_count": null,
      "metadata": {
        "id": "wZ2aFgeHxSlh"
      },
      "outputs": [],
      "source": [
        "from tensorflow.keras.optimizers import Adam\n",
        "\n",
        "model.compile(\n",
        "    optimizer=Adam(learning_rate=1e-6),  # low LR to avoid large weight updates\n",
        "    loss='categorical_crossentropy',\n",
        "    metrics=['accuracy']\n",
        ")\n",
        "\n"
      ]
    },
    {
      "cell_type": "code",
      "execution_count": null,
      "metadata": {
        "colab": {
          "base_uri": "https://localhost:8080/"
        },
        "id": "m85Mlvm9xeki",
        "outputId": "18deb9d7-83cf-4225-ff77-a13f5ce7c080"
      },
      "outputs": [
        {
          "output_type": "stream",
          "name": "stdout",
          "text": [
            "Epoch 1/5\n",
            "\u001b[1m141/141\u001b[0m \u001b[32m━━━━━━━━━━━━━━━━━━━━\u001b[0m\u001b[37m\u001b[0m \u001b[1m98s\u001b[0m 612ms/step - accuracy: 0.8859 - loss: 0.4106 - val_accuracy: 0.8428 - val_loss: 0.6875\n",
            "Epoch 2/5\n",
            "\u001b[1m141/141\u001b[0m \u001b[32m━━━━━━━━━━━━━━━━━━━━\u001b[0m\u001b[37m\u001b[0m \u001b[1m79s\u001b[0m 564ms/step - accuracy: 0.9559 - loss: 0.1210 - val_accuracy: 0.8810 - val_loss: 0.3744\n",
            "Epoch 3/5\n",
            "\u001b[1m141/141\u001b[0m \u001b[32m━━━━━━━━━━━━━━━━━━━━\u001b[0m\u001b[37m\u001b[0m \u001b[1m79s\u001b[0m 561ms/step - accuracy: 0.9643 - loss: 0.0978 - val_accuracy: 0.9227 - val_loss: 0.2346\n",
            "Epoch 4/5\n",
            "\u001b[1m141/141\u001b[0m \u001b[32m━━━━━━━━━━━━━━━━━━━━\u001b[0m\u001b[37m\u001b[0m \u001b[1m79s\u001b[0m 560ms/step - accuracy: 0.9738 - loss: 0.0828 - val_accuracy: 0.9369 - val_loss: 0.1835\n",
            "Epoch 5/5\n",
            "\u001b[1m141/141\u001b[0m \u001b[32m━━━━━━━━━━━━━━━━━━━━\u001b[0m\u001b[37m\u001b[0m \u001b[1m79s\u001b[0m 560ms/step - accuracy: 0.9770 - loss: 0.0690 - val_accuracy: 0.9591 - val_loss: 0.1433\n"
          ]
        }
      ],
      "source": [
        "fine_tune_history = model.fit(\n",
        "    train_data,\n",
        "    validation_data=val_data,\n",
        "    epochs=5  # try 5 first, then monitor performance\n",
        ")\n"
      ]
    },
    {
      "cell_type": "code",
      "execution_count": null,
      "metadata": {
        "colab": {
          "base_uri": "https://localhost:8080/"
        },
        "id": "4i3BSIkdxjHJ",
        "outputId": "937a7bfa-16af-4ee5-f051-3ce380925e86"
      },
      "outputs": [
        {
          "output_type": "stream",
          "name": "stdout",
          "text": [
            "\u001b[1m36/36\u001b[0m \u001b[32m━━━━━━━━━━━━━━━━━━━━\u001b[0m\u001b[37m\u001b[0m \u001b[1m16s\u001b[0m 452ms/step - accuracy: 0.9665 - loss: 0.1186\n",
            "Fine-tuned Val Loss: 0.1374\n",
            "Fine-tuned Val Accuracy: 0.9600\n"
          ]
        }
      ],
      "source": [
        "val_loss, val_acc = model.evaluate(val_data)\n",
        "print(f\"Fine-tuned Val Loss: {val_loss:.4f}\")\n",
        "print(f\"Fine-tuned Val Accuracy: {val_acc:.4f}\")\n"
      ]
    },
    {
      "cell_type": "code",
      "execution_count": null,
      "metadata": {
        "colab": {
          "base_uri": "https://localhost:8080/"
        },
        "id": "qYq145ZV4IbU",
        "outputId": "4bcb6f4b-0da7-481e-e74e-82db81065434"
      },
      "outputs": [
        {
          "output_type": "stream",
          "name": "stdout",
          "text": [
            "\u001b[1m36/36\u001b[0m \u001b[32m━━━━━━━━━━━━━━━━━━━━\u001b[0m\u001b[37m\u001b[0m \u001b[1m20s\u001b[0m 491ms/step\n"
          ]
        }
      ],
      "source": [
        "val_data.reset()  # Ensure order is correct\n",
        "y_pred_probs = model.predict(val_data, verbose=1)\n",
        "y_pred = np.argmax(y_pred_probs, axis=1)\n"
      ]
    },
    {
      "cell_type": "code",
      "execution_count": null,
      "metadata": {
        "id": "wqlbE9N24KS8"
      },
      "outputs": [],
      "source": [
        "y_true = val_data.classes\n",
        "class_labels = list(val_data.class_indices.keys())\n"
      ]
    },
    {
      "cell_type": "code",
      "execution_count": null,
      "metadata": {
        "colab": {
          "base_uri": "https://localhost:8080/",
          "height": 718
        },
        "id": "r_7vVmTi4NbA",
        "outputId": "463740a7-3661-4c36-a02f-f63487be8a4c"
      },
      "outputs": [
        {
          "output_type": "display_data",
          "data": {
            "text/plain": [
              "<Figure size 1000x800 with 2 Axes>"
            ],
            "image/png": "[encoded data removed]"
          },
          "metadata": {}
        }
      ],
      "source": [
        "from sklearn.metrics import confusion_matrix\n",
        "import seaborn as sns\n",
        "import matplotlib.pyplot as plt\n",
        "\n",
        "cm = confusion_matrix(y_true, y_pred)\n",
        "\n",
        "plt.figure(figsize=(10, 8))\n",
        "sns.heatmap(cm, annot=True, fmt='d', cmap='Blues',\n",
        "            xticklabels=class_labels,\n",
        "            yticklabels=class_labels)\n",
        "\n",
        "plt.xlabel('Predicted')\n",
        "plt.ylabel('Actual')\n",
        "plt.title('Confusion Matrix - Fine-Tuned MobileNetV2')\n",
        "plt.show()\n"
      ]
    },
    {
      "cell_type": "markdown",
      "source": [
        "**Observations:**\n",
        "\n",
        "Overall Performance: This model shows some improvements over the previous MobileNetV2 (non-fine-tuned) model, particularly in certain classes. However, significant misclassifications persist.\n",
        "\n",
        "**True Positives (Correct Classifications) by Class:**\n",
        "\n",
        "cloudy: 74\n",
        "\n",
        "desert: 44\n",
        "\n",
        "green_area: 100 (This is the highest true positive count among all classes and an improvement from the previous MobileNetV2 model's 80.)\n",
        "\n",
        "water: 83\n",
        "\n",
        "The model performs best on 'green_area'.\n",
        "\n",
        "The model still performs worst on 'desert', with only 44 correct predictions.\n",
        "\n",
        "**False Positives and False Negatives (Misclassifications) by Class:**\n",
        "\n",
        "Actual 'cloudy' images:\n",
        "\n",
        "61 were predicted as 'desert'.\n",
        "\n",
        "79 were predicted as 'green_area'.\n",
        "\n",
        "86 were predicted as 'water'.\n",
        "\n",
        "Insight: 'cloudy' is still heavily confused, especially with 'water' and 'green_area'.\n",
        "\n",
        "Actual 'desert' images:\n",
        "\n",
        "62 were predicted as 'cloudy'.\n",
        "\n",
        "57 were predicted as 'green_area'.\n",
        "\n",
        "63 were predicted as 'water'.\n",
        "\n",
        "Insight: 'desert' remains the most challenging class, with its actual instances being spread fairly evenly across the other three incorrect categories.\n",
        "\n",
        "Actual 'green_area' images:\n",
        "\n",
        "68 were predicted as 'cloudy'.\n",
        "\n",
        "64 were predicted as 'desert'.\n",
        "\n",
        "68 were predicted as 'water'.\n",
        "\n",
        "Insight: While 'green_area' has high true positives, it still exhibits substantial confusion with 'cloudy' and 'water'.\n",
        "\n",
        "Actual 'water' images:\n",
        "\n",
        "67 were predicted as 'cloudy'.\n",
        "\n",
        "61 were predicted as 'desert'.\n",
        "\n",
        "89 were predicted as 'green_area'.\n",
        "\n",
        "Insight: 'water' is still significantly confused with 'green_area', although its true positive rate is reasonable.\n",
        "\n",
        "**Relevant Insights & Comparison to Previous Models (Base and Non-Fine-Tuned MobileNetV2):**\n",
        "\n",
        "- Improvement in 'Green Area' Classification: This model shows a clear improvement in classifying 'green_area', with 100 correct predictions. This is the highest correct classification count seen across all the models presented so far. Fine-tuning seems to have particularly benefited the recognition of 'green_area'.\n",
        "\n",
        "- Persistent Struggle with 'Desert': The 'desert' class continues to be the weakest link, with only 44 true positives. Fine-tuning did not significantly improve its classification performance, and it remains heavily misclassified across all other categories. This suggests that the features for 'desert' are highly ambiguous or overlap significantly with others, or the training data for 'desert' is particularly challenging.\n",
        "\n",
        "- Reduced but Still Significant 'Cloudy' Confusion: While the 'cloudy' class is still prone to misclassification (especially as 'water' and 'green_area'), the fine-tuning might have slightly improved its true positive rate compared to the initial MobileNetV2 model (76 vs 74).\n",
        "\n",
        "- Complex 'Water' Behavior: The 'water' class shows reasonable true positives (83). However, there's still a very high misclassification of 'water' as 'green_area' (89 instances), which is a persistent problem observed across all models. This indicates a fundamental visual similarity or ambiguity between these two classes that fine-tuning alone hasn't fully resolved.\n",
        "\n",
        "- General Inter-Class Ambiguity: Despite fine-tuning, significant inter-class confusion remains. This implies that even with a pre-trained model and further training, the learned features for these four land cover types are not distinct enough, or the problem itself is inherently challenging due to visual overlap in real-world satellite or aerial imagery.\n",
        "\n",
        "**Conclusion for Fine-Tuned MobileNetV2:**\n",
        "\n",
        "- The fine-tuned MobileNetV2 model shows an improvement in classifying 'green_area' compared to previous iterations, making it the best-classified category. However, the 'desert' class remains a significant challenge, and there's still notable confusion between 'cloudy', 'green_area', and 'water'. The persistent high misclassification of 'water' as 'green_area' is a particularly stubborn problem."
      ],
      "metadata": {
        "id": "zlrwW9qiKbXE"
      }
    },
    {
      "cell_type": "markdown",
      "source": [
        "# ✅ **Conclusions**\n",
        "\n",
        "1.Transfer Learning Outperformed Custom CNNs\n",
        "\n",
        "- The pretrained MobileNetV2 model (without fine-tuning) achieved the best results with a validation accuracy of 98.4% and the highest number of true positives per class.\n",
        "\n",
        "- Custom CNNs, even with class balancing and augmentation, struggled to generalize and consistently misclassified samples.\n",
        "\n",
        "2. Fine-Tuning Did Not Yield Additional Gains\n",
        "\n",
        "- While fine-tuning slightly improved validation accuracy (to 93.2%) over the base CNNs, it underperformed the original MobileNetV2 in terms of class-level prediction quality, as shown in the confusion matrix.\n",
        "\n",
        "- Overfitting and potential instability from unfreezing layers likely contributed to reduced generalization.\n",
        "\n",
        "3. Class Confusion Was Pronounced in Visually Similar Classes\n",
        "\n",
        "- Classes such as cloudy, green area, and water showed overlap due to shared textures and tones.\n",
        "\n",
        "- Despite this, the base model handled these overlaps better than the tuned versions."
      ],
      "metadata": {
        "id": "eJrzBWJFNUVP"
      }
    },
    {
      "cell_type": "markdown",
      "source": [
        "# ✅ **Recommendations**\n",
        "\n",
        "1. Use the Base MobileNetV2 Model for Deployments ince it delivered the best results, this model should be saved and deployed for real-world use cases.\n",
        "\n",
        "2. Deploy Using Streamlit or Flask\n",
        "\n",
        "- Create a simple web interface for users to upload satellite images and receive class predictions in real time.\n",
        "\n",
        "- Streamlit is recommended for rapid prototyping and demo apps.\n",
        "\n",
        "3. Explore Grad-CAM for Model Explainability\n",
        "\n",
        "- Implement Grad-CAM heatmaps to visualize what parts of the image the model uses for its predictions.\n",
        "\n",
        "- This improves trust and transparency for stakeholders.\n",
        "\n",
        "4. Improve Data Quality and Class Balance\n",
        "\n",
        "- Consider curating more training samples for underrepresented or confused classes (e.g., “desert”).\n",
        "\n",
        "- Use higher resolution images and additional data augmentation to further enhance robustness.\n",
        "\n",
        "5. Extend to Multilabel or Multiscale Classification\n",
        "\n",
        "- Satellite scenes often contain multiple features. Future work could explore multilabel classification, land-use segmentation, or region-based analysis."
      ],
      "metadata": {
        "id": "CbJubVdYNqtR"
      }
    },
    {
      "cell_type": "code",
      "execution_count": null,
      "metadata": {
        "id": "sRdlHPe68PWP",
        "colab": {
          "base_uri": "https://localhost:8080/"
        },
        "outputId": "27ceb97d-dc34-4290-b1c6-baaca9745675"
      },
      "outputs": [
        {
          "output_type": "stream",
          "name": "stderr",
          "text": [
            "WARNING:absl:You are saving your model as an HDF5 file via `model.save()` or `keras.saving.save_model(model)`. This file format is considered legacy. We recommend using instead the native Keras format, e.g. `model.save('my_model.keras')` or `keras.saving.save_model(model, 'my_model.keras')`. \n"
          ]
        }
      ],
      "source": [
        "model.save(\"/content/drive/MyDrive/satellite_mobilenetv2_base_best.h5\")\n"
      ]
    }
  ],
  "metadata": {
    "accelerator": "GPU",
    "colab": {
      "gpuType": "T4",
      "provenance": []
    },
    "kernelspec": {
      "display_name": "Python 3",
      "name": "python3"
    },
    "language_info": {
      "name": "python"
    }
  },
  "nbformat": 4,
  "nbformat_minor": 0
}